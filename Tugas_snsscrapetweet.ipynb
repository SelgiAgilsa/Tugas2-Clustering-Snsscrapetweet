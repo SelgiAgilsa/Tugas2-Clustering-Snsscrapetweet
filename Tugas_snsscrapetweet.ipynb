{
  "nbformat": 4,
  "nbformat_minor": 0,
  "metadata": {
    "colab": {
      "provenance": [],
      "collapsed_sections": [],
      "include_colab_link": true
    },
    "kernelspec": {
      "name": "python3",
      "display_name": "Python 3"
    },
    "language_info": {
      "name": "python"
    }
  },
  "cells": [
    {
      "cell_type": "markdown",
      "metadata": {
        "id": "view-in-github",
        "colab_type": "text"
      },
      "source": [
        "<a href=\"https://colab.research.google.com/github/SelgiAgilsa/Tugas2-Clustering-Snsscrapetweet/blob/main/Tugas_snsscrapetweet.ipynb\" target=\"_parent\"><img src=\"https://colab.research.google.com/assets/colab-badge.svg\" alt=\"Open In Colab\"/></a>"
      ]
    },
    {
      "cell_type": "markdown",
      "source": [
        "Klastering data twitter menggunakan keyword \"narkoba\" \n",
        "Start= 2022–09–15\n",
        "End = 2022–10–15"
      ],
      "metadata": {
        "id": "EhM_NGSVtxa9"
      }
    },
    {
      "cell_type": "markdown",
      "source": [
        "**Install library snscrape**. Snscrape is a Python library that can be used to scrape tweets through Twitter's API without any restrictions or request limits."
      ],
      "metadata": {
        "id": "2LpYwi8XtnjW"
      }
    },
    {
      "cell_type": "code",
      "source": [
        "!pip3 install snscrape"
      ],
      "metadata": {
        "colab": {
          "base_uri": "https://localhost:8080/"
        },
        "id": "jNbSzqhgNUkx",
        "outputId": "332bf767-e71f-47cc-9c0d-01c5fee867c6"
      },
      "execution_count": 1,
      "outputs": [
        {
          "output_type": "stream",
          "name": "stdout",
          "text": [
            "Looking in indexes: https://pypi.org/simple, https://us-python.pkg.dev/colab-wheels/public/simple/\n",
            "Collecting snscrape\n",
            "  Downloading snscrape-0.3.4-py3-none-any.whl (35 kB)\n",
            "Requirement already satisfied: requests[socks] in /usr/local/lib/python3.7/dist-packages (from snscrape) (2.23.0)\n",
            "Requirement already satisfied: lxml in /usr/local/lib/python3.7/dist-packages (from snscrape) (4.9.1)\n",
            "Requirement already satisfied: beautifulsoup4 in /usr/local/lib/python3.7/dist-packages (from snscrape) (4.6.3)\n",
            "Requirement already satisfied: idna<3,>=2.5 in /usr/local/lib/python3.7/dist-packages (from requests[socks]->snscrape) (2.10)\n",
            "Requirement already satisfied: chardet<4,>=3.0.2 in /usr/local/lib/python3.7/dist-packages (from requests[socks]->snscrape) (3.0.4)\n",
            "Requirement already satisfied: certifi>=2017.4.17 in /usr/local/lib/python3.7/dist-packages (from requests[socks]->snscrape) (2022.9.24)\n",
            "Requirement already satisfied: urllib3!=1.25.0,!=1.25.1,<1.26,>=1.21.1 in /usr/local/lib/python3.7/dist-packages (from requests[socks]->snscrape) (1.24.3)\n",
            "Requirement already satisfied: PySocks!=1.5.7,>=1.5.6 in /usr/local/lib/python3.7/dist-packages (from requests[socks]->snscrape) (1.7.1)\n",
            "Installing collected packages: snscrape\n",
            "Successfully installed snscrape-0.3.4\n"
          ]
        }
      ]
    },
    {
      "cell_type": "markdown",
      "source": [
        "**Install library langdetect.**"
      ],
      "metadata": {
        "id": "o7_TFPEyu-9T"
      }
    },
    {
      "cell_type": "code",
      "source": [
        "pip install langdetect"
      ],
      "metadata": {
        "colab": {
          "base_uri": "https://localhost:8080/"
        },
        "id": "_cpGkLAoZegb",
        "outputId": "f9932f33-8167-4fe6-ad72-b409ebeb78d1"
      },
      "execution_count": 2,
      "outputs": [
        {
          "output_type": "stream",
          "name": "stdout",
          "text": [
            "Looking in indexes: https://pypi.org/simple, https://us-python.pkg.dev/colab-wheels/public/simple/\n",
            "Collecting langdetect\n",
            "  Downloading langdetect-1.0.9.tar.gz (981 kB)\n",
            "\u001b[K     |████████████████████████████████| 981 kB 33.0 MB/s \n",
            "\u001b[?25hRequirement already satisfied: six in /usr/local/lib/python3.7/dist-packages (from langdetect) (1.15.0)\n",
            "Building wheels for collected packages: langdetect\n",
            "  Building wheel for langdetect (setup.py) ... \u001b[?25l\u001b[?25hdone\n",
            "  Created wheel for langdetect: filename=langdetect-1.0.9-py3-none-any.whl size=993242 sha256=f36c1d89009d2111278a3386be59e2bc865b5b9d65b5f141c9458ba9b4a6d478\n",
            "  Stored in directory: /root/.cache/pip/wheels/c5/96/8a/f90c59ed25d75e50a8c10a1b1c2d4c402e4dacfa87f3aff36a\n",
            "Successfully built langdetect\n",
            "Installing collected packages: langdetect\n",
            "Successfully installed langdetect-1.0.9\n"
          ]
        }
      ]
    },
    {
      "cell_type": "markdown",
      "source": [
        "**Import snscrape.modules.twitter and json.** The packages you will need."
      ],
      "metadata": {
        "id": "9x0uTvb5xEt9"
      }
    },
    {
      "cell_type": "code",
      "source": [
        "import snscrape.modules.twitter as sntwitter\n",
        "import json\n",
        "from langdetect import detect"
      ],
      "metadata": {
        "id": "TXJV6YeeZihZ"
      },
      "execution_count": 3,
      "outputs": []
    },
    {
      "cell_type": "markdown",
      "source": [
        "**Specify your query parameters.**"
      ],
      "metadata": {
        "id": "4rRUVnuixS1a"
      }
    },
    {
      "cell_type": "code",
      "source": [
        "keywords=['narkoba']\n",
        "start=\"2022–09–15\"\n",
        "end =\"2022–10–15\"\n",
        "max_num=180\n",
        "fname='tweet.json' \n",
        "languages=['id']"
      ],
      "metadata": {
        "id": "_sPucD-vZsz1"
      },
      "execution_count": 21,
      "outputs": []
    },
    {
      "cell_type": "markdown",
      "source": [
        "**Import library Panda.**"
      ],
      "metadata": {
        "id": "NoDFHmoOzQSp"
      }
    },
    {
      "cell_type": "code",
      "source": [
        "import pandas as pd\n",
        "datatwitter=[]"
      ],
      "metadata": {
        "id": "pf7ZIVlVzwy7"
      },
      "execution_count": 22,
      "outputs": []
    },
    {
      "cell_type": "markdown",
      "source": [
        "**Then starting crawling.**"
      ],
      "metadata": {
        "id": "bwvLjoqH0Ebq"
      }
    },
    {
      "cell_type": "code",
      "source": [
        "for keyword in keywords:\n",
        "   \n",
        "    for i, tweet in enumerate (sntwitter.TwitterSearchScraper(f'{keyword} ').get_items()):\n",
        "        \n",
        "        try:\n",
        "            lan=detect(tweet.content)\n",
        "        except:\n",
        "            lan='error'\n",
        "        if i == max_num:\n",
        "            break\n",
        "        if lan in languages:\n",
        "            data = {'id': tweet.id, 'username':tweet.username, 'date': tweet.date, 'text': tweet.content,'url':tweet.url}\n",
        "           # print(data)\n",
        "            datatwitter.append(tweet.content)\n",
        "            with open(fname, 'a+', encoding='utf-8') as f:\n",
        "                line = json.dumps(data, ensure_ascii=False,default=str)\n",
        "                #print(line)\n",
        "                f.write(line)\n",
        "                f.write('\\n')"
      ],
      "metadata": {
        "id": "1-8oNU5nZmMT"
      },
      "execution_count": 23,
      "outputs": []
    },
    {
      "cell_type": "code",
      "source": [
        "datatwitter"
      ],
      "metadata": {
        "colab": {
          "base_uri": "https://localhost:8080/"
        },
        "id": "ER2Zx6Y90jj1",
        "outputId": "9e74a6cf-727a-44bc-96ad-dcffca331099"
      },
      "execution_count": 24,
      "outputs": [
        {
          "output_type": "execute_result",
          "data": {
            "text/plain": [
              "['@dailexsy @coppamagz Iyaa nih aku jadi tau yang semenjak ada kasus artis indo pake narkoba buat stamina krn jadwal padetnya, ooh ternyata mereka pake bisa untuk itu. Yaa gak dibenarkan tp ternyata di dunia artis itu bisa terjadi yaa',\n",
              " 'Satres Narkoba Polres Langkat Laksanakan Tes Urine Terhadap\\xa0Personel https://t.co/5m7xlpY48q',\n",
              " '@DrEvaChaniago Betapa baiknya hati mereka dalam menjalankan tugas negara wakanda menggunakan dana pribadi. Dimana yang ini menggunakan 300jt utk bertolak ke rumah korban, yang satunya 20M utk operasi narkoba diselat malaka &amp; laut china. Gilaa yee...',\n",
              " '@DivHumas_Polri Seandainya semua polisi seperti, tidak akan pernah ada narkoba dan judi di negeri ini',\n",
              " 'Semangat Tumpas Narkoba bersama SMPN 3 Banyuwangi 👌👌💪💪\\nhttps://t.co/09i72wgIgF',\n",
              " 'Irjen Pol Teddy Minahasa ditetapkan tersangka kasus penyalahgunaan narkoba.\\n\\nKendati demikian, Teddy Minahasa bantah tuduhan sebagai pengguna dan pengedar narkoba.\\n\\nhttps://t.co/lc1lfpiUES',\n",
              " 'Teddy Minahasa juga bersumpah tidak pernah menggunakan narkoba. https://t.co/GpsQk4a7x3',\n",
              " '@CNNIndonesia plot twist biusnya pake narkoba',\n",
              " '@msaid_didu Semoga dg menjadi pengacara TM, pa henry bisa mengetahui lebih detail tentang permainan mafia narkoba',\n",
              " '@hariankompas Salah gelar ini, mestinya aktivis pendukung bandar narkoba',\n",
              " '@PakJenggot__ harus cepat di hukum mati\\nbiar yang lain jera\\ngak ada beda polisi sana rakyat biasa kalau masalah narkoba',\n",
              " '@tribunnews Dokternya boleh ngomong apa saja. Tapi klu test rambut positih menggunakan nakoba, itu berarti penggunaan narkoba yg sdh lama, bukan pengguna baru..',\n",
              " '@__dtm__ Kita tunggu apakah Irjen Teddy akan diangkat menjadi Duta Anti Polisi Nyambi Dagang Narkoba',\n",
              " 'Sakit giginya mulai membaik, Teddy Minahasa jalani pemeriksaan kasus narkoba.\\n\\n#teddyminahasa #narkoba #kapoldajatim #poskota #sabu #polisinarkoba\\nhttps://t.co/HRtnNVzXb8',\n",
              " 'Sejak kapan aktivis anti narkoba jd pembela tersangka penjual narkoba dg dalih taat beribadah begini 😂 https://t.co/NHMgLwOuVf',\n",
              " \"@coppamagz Lee nya nih cewe apa cowo ya? Bisa aja cewe kan soalnya dia pacaran sama artis 'k' k nya bisa aja kim? Cewe juga bisa kan make narkoba?\",\n",
              " '@__dtm__ Artis yg ketangkep narkoba aja jadi duta narkoba teh....ingeeeet kita tinggal di....',\n",
              " '@liputan6dotcom Hukum mati bandar judi dan narkoba apalagi pelaku oknum polisi yang ngerti hukum',\n",
              " '@CNNIndonesia Tapi pengendali narkoba wkwkwkw',\n",
              " '@convomfs aku terlahir sebagai macan, aku tidak mengonsumsi Pill ( narkoba ? ) seperti mu',\n",
              " 'Aku kira dia bandar narkoba sampe dikejar dan diberentiin',\n",
              " 'Dikabarkan banyak pengurus DPC GRANAT mundur karena hal ini.\\n\\nMungkin kecewa.\\n\\n“Jiakhhhh bapack katanya perangi narkoba, yg dagang malah u bela gimana dah pack????”',\n",
              " '@CNNIndonesia Iya bukan pengedar, tapi mindahin narkoba dr markas ke tangan reseller',\n",
              " 'Henry Yosodiningrat bersedia menjadi kuasa hukum Irjen Teddy Minahasa dalam kasus narkoba. Bersumpah demi Allah. #TempoMetro https://t.co/B4ZLAI0VNW',\n",
              " 'Transaksi Peredaran Narkoba Di Bajigur Sistem Buka Tutup Guna Kelabui Polres Pematang Siantar https://t.co/PoYoQkdZLw',\n",
              " 'Skandal FIFA paling menohok, Pildun 2002 Jepang-Korsel.\\n\\nPaling inget Italia vs Korsel, wasit na luar biasa berat sebelah, parah pisan. Ga lama si wasit ditangkap di bandara JFK bawa narkoba. \\n\\nKorsel vs Spain, Korsel vs Portugal juga paraah. 👇🏻👇🏻\\n\\nhttps://t.co/z4a4LvXw15',\n",
              " 'KAKANWIL KEMENKUMHAM SULBAR FAISOL ALI : Pesan Kadivpas Kanwil Kemenkumham Sulbar di Rutan Majene: Deteksi Dini Narkoba @Kumham_Sulbar @Kemenkumham_RI @NewsKemenkumham #KanwilSulbar #KumhamSulbar #FaisolAli #Yasonna\\nhttps://t.co/V51AM6uAoS',\n",
              " 'Henry Yosodiningrat adalah pendiri Gerakan Anti Narkoba (Granat) dan skrg jadi pengacaranya Teddy Minahasa.\\n\\nPuadahal, anak beliaw juga pernah terjerat kasus narkoba.\\n\\nAntara ybs yakin bahwa Teddy tida bersalah atau ada alasan lain… https://t.co/kt0RyYZdDQ',\n",
              " 'Setidaknya ada tiga kasus besar yang menyeret Polri baru-baru ini, yakni kasus Ferdy Sambo, Tragedi Kanjuruhan, dan dugaan kasus narkoba. Pengamat menilai rentetan kasus itu imbas pengabaian reformasi di tubuh Polri. https://t.co/OnS2L0WAvA #Analisis #CNNIndonesia https://t.co/BdniGnYFOD',\n",
              " 'Nalar publik sudah di level:\\nPolisi pake narkoba = bisa.\\nPolisi dijebak polisi biar terkesan pake narkoba = bisa.\\n\\nMungkinkah dijebak jadi seolah-olah pemake meski hasil tes urine nyatanya positif? Hmm Park Chang-ho di eps awal digituin. https://t.co/ignQerVssY',\n",
              " '@Miduk17 Akan lebih kelabakan jika #AniesPresidenRI2024\\nKoruptor, mafia Narkoba, pencucian uang dan investor yang nabrak aturan Amdal akan digilas #AniesBaswedan\\n\\nhttps://t.co/SOfsu9aC21 https://t.co/za58z5dkGi',\n",
              " '@calungsutajaya @geloraco Gampang duitnya dari bandar 303 dan jual narkoba 🙏🙏🙏',\n",
              " '@6undul0h Begitupun Jenderal yg kasus Narkoba.\\nPengacanya Ketua Geranat.🤕',\n",
              " '@imanlagi padahal dulu statementnya klo di wawamcara selalu blg “saya menyarankan kpd para lawyer klo ada bandar narkoba tidak usah dibela”',\n",
              " '@paido_bois @myshabrina1 @tvOneNews ya berarti sama aja, lu kalo jadi isilop bagian narkotika dapet bukti berupa narkoba paling ya lu jual lagi😂 tapi gw yakin gak cuma lu sama gw doang yang kelakuannya sama jadi gak usah heran deh kalo kualitas aparat kita kek gini',\n",
              " '1. Character Building\\nOrang tua harus memberikan pendidikan karakter positif sejak anak usia dini. Hal ini penting karena anak dengan karakter yang positif dan kuat, telah memiliki modal besar untuk membentengi diri dari pengaruh negatif apapun, termasuk narkoba',\n",
              " 'Untuk para orang tua, apa pernah mendapatkan pertanyaan \"Ayah/Ibu apa itu narkoba?\" dari sang buah hati?\\n\\nTidak perlu bingung, orang tua bisa meberikan edukasi yang sesuai dengan umur si anak dan tanpa harus menakut-nakuti.\\nBagaimana caranya?',\n",
              " 'Yuk edukasi narkoba sedini mungkin!. Untuk para orang tua, apa pernah mendapatkan pertanyaan \"Ayah/Ibu apa itu narkoba?\" dari sang buah hati?',\n",
              " '@eRS_AREMA021 @dewiirawan13 Somplak otaknya kebanyakan narkoba',\n",
              " '((Oknum)) jenderal berantas narkoba❌((Oknum)) jenderal pemasok narkoba✅Gimana mau bersih dari narkoba kalo yang harusnnya ngeberantas malah jadi pemasok🤦🏼| Narasi Daily #Narkoba #Jenderal #NarasiDaily #NarasiNewsroom #JadiPaham https://t.co/X61g28RvmK',\n",
              " 'Belasan Pengedar Narkoba Diciduk Polresta\\xa0Denpasar https://t.co/wLTqRCsv82',\n",
              " 'Polda Sulteng Singkap 460 Kasus Narkoba dengan 590\\xa0Tersangka https://t.co/4EDZhDHbOX',\n",
              " 'Polda Sulteng Singkap 460 Kasus Narkoba dengan 590\\xa0Tersangka https://t.co/QKTVBbaK0j',\n",
              " 'Pengacara Irjen Teddy Minahasa, Henry Yosodiningrat menyatakan, kliennya mengaku bukan pengedar narkoba. Teddy bahkan berani bersumpah atas hal itu. #TopNews https://t.co/xEv4HodM7C https://t.co/xewD1sjvRs',\n",
              " 'Jaringan kriminal menghemat biaya pembuangan dan mendapatkan izin untuk itu. Untuk beberapa kasus kejahatan jaringan tersebut, keuntungan dari pengelolaan sampah sangat besar, sehingga dianggap lebih menggiurkan daripada perdagangan narkoba. #ecofrontlines https://t.co/3KIL2KP8KY',\n",
              " 'KOREM 172/PWY BERSAMA POLDA PAPUA GELAR PENYULUHAN NARKOBA BAGI SISWA SMKN 3 JAYAPURA \\n@korem172pwy \\n#admediapapua @korem172pwy #poldapapua #nodrugs #edukasi #viral\\nhttps://t.co/0m0oyvu0s2',\n",
              " 'Teddy Minahasa Dinyatakan Positif Usai Tes Narkoba, Namun Bantah dengan Argumen yang Meyakinkan Seperti Ini.. https://t.co/o1xVF7D9av',\n",
              " 'Mengaku Sakit, Irjen Pol Teddy Minahasa Batal Diperiksa Terduga penyalahgunaan narkoba Irjen Pol Teddy Minahasa batal menjalani pemeriksaan penyidik Bareskrim Polri. Teddy batal ... https://t.co/22xKYWic7R',\n",
              " '@bnnksb Usaha perang melawan NARKOBA di dalam LAPAS dan menciptakan LAPAS BERSINAR....\\n#WarOnDrugs\\n#SpeedUpNeverLetUp',\n",
              " 'Maling, begal, bandar narkoba, pembunuh, pungli, badar judi, suap, pemerkosa, main kasus, penganiaya, persekusi https://t.co/GybJOvmljV',\n",
              " 'Selamatkan Generasi Muda Korem 172/PWY Bersama Polda Papua Gelar Penyuluhan Narkoba Bagi Siswa SMKN 3 Jayapura\\n\\nhttps://t.co/AIKg363UNi https://t.co/9KDZRe87Ij',\n",
              " 'Kasus Narkoba &amp; Curanmor Paling Menonjol Dalam Operasi Pekat Polres Sorong Kota https://t.co/tQEOgA7029 https://t.co/w2dfg4NlpL',\n",
              " 'Teddy Minahasa Bersumpah Tidak Gunakan Narkoba, Sebut Pakai Obat Bius untuk Pengobatan https://t.co/pN7kbDzoSM https://t.co/K7wDQXBTDW',\n",
              " 'Udah gila ini negara, pimpinan lembaga yang harusnya paling kencang menolak narkoba masih aja nyari pembenaran. https://t.co/Vb7dR2JKPq',\n",
              " '@CNNIndonesia Aneh bin ajaib negei ini. Ketua Umum Gerakan Nasional Anti Narkoba jadi Pengacara Bandar dan pengedar narkoba. Apa karena bayarannya yg wah? Kliennya kan Kapolda Terkaya di negeri ini. Tidak punya integritars diri.',\n",
              " '@CNNIndonesia Baru tau bahwasan nya obat bius memiliki sipat seperti narkoba, jika abis menggunakan obat bius bisa postif ketika di tes, andaikan beliau bukan perwira apa yg akan terjadi??',\n",
              " 'RT @pikiran_rakyat: Dinyatakan Positif Narkoba, Teddy Minahasa: Itu Efek Obat Bius\\n#Narkoba #TeddyMinahasa #Polri\\n\\nSelengkapnya: https://t.co/XdoYtPyt9q via @YouTube',\n",
              " 'RT @soclyfecom: Tertangkap Karena Kasus Peredaran Narkoba, Berikut Profil Irjen Teddy Minahasa @soclyfecom https://t.co/0RHFjvnXFv #profil #teddyminahasa #teddyminahasaputra #kapolda #kapoldasumbar #polisiindonesia #narkoba #kasus #beritaterkini #viraln… https://t.co/PobAkSRJAH',\n",
              " 'RT @fajaronline: Ditangkap dan Jadi Tersangka, Irjen Teddy Minahasa Bantah Jual dan Konsumsi Narkoba https://t.co/JqdK0esygU #HenryYosodiningrat #IrjenTeddyMinahasa #KapoldaSumateraBarat #narkoba',\n",
              " 'RT @jatimnews_id: Jakarta - Irjen Teddy Minahasa ditetapkan sebagai tersangka kasus narkoba. Polda Metro Jaya menyatakan bahwasanya Teddy Minahasa mengendalikan peredaran sabu yang digelapkan dari barang bukti pengungkapan kasus di Polres Bukittinggi. \\n\\n… https://t.co/Rec5WWg1CR',\n",
              " 'RT @nusabalicom: 17 Hari, 16 Pengedar Diringkus https://t.co/1b1dXVFmBf #berita #nusabali #Narkoba #Narkotika #PolrestaDenpasar',\n",
              " 'Bapas Lahat: Kasat Reskrim AKP M. Tohirin; Kasat Narkoba AKP Rudin Supriyanto; Kasat Intel Iptu Suparma dan dihadiri seluruh Kapolsek di Wilayah Kabupaten Empat Lawang.\\n@Kemenkumham_RI\\n@kumhamsumsel\\n@bapaslahat\\n#KumhamSumsel\\n#BapasLahat',\n",
              " '@SantorinisSun FIFA masih beri kesempatan kpd Indonesia utk benahi sepakbola.\\nMomentum ini hrs ditangkap seluruh stakeholder sepakbola Indonesia utk perbaiki diri terutama supporter nya utk tdk lagi anarkis.',\n",
              " '@BakulJamu_79 Karenanya mereka para naga kuasai 85% lahan2 di NKRI , uangnya dari narkoba, obat palsu, judi, protitusi, dsb..mereka gak kenal apa itu halal / haram',\n",
              " '@CNNIndonesia Narkoba musuh negara. \\nTapi duit sahabat pengacara 😁',\n",
              " 'Teddy Minahasa Batal Diperiksa Terkait Narkoba Hari Ini, Alasan Sakit Gigi https://t.co/c73UyVR97P https://t.co/W8Ay3rViCw',\n",
              " '@CNNIndonesia Emang boleh ya menjebak orang pakai narkoba itu.',\n",
              " '@txtdrberseragam Katanya emang ga ada yg bisa lepas dari narkoba ini ya.',\n",
              " '@kangdede78 @surasujaya @aniesbaswedan Kayak gini polisi gercep, soal narkoba, judi atau aduan motor ilang warga pada wani piro...',\n",
              " 'Ada tersangka kasus narkoba gagal di periksa di karenakan sakit gigi 🤪',\n",
              " '@geloraco Maklum pengacara hitam doyan duit..anaknya mati kena narkoba eh bela pengedar narkoba?',\n",
              " '@CNNIndonesia Klo udah ada duit di depan mata. Dia lupa dgn nama anti narkoba. 🤣',\n",
              " '@CNNIndonesia Gimana Mau jebak...!?? Wonk duitnya saja kau Nikmati kq ! Justru yang di rugikan itu adalah Linda karna dia beli Narkoba sama kau tapi di ganti Tawas !,',\n",
              " '@detikcom Tenggelamkan Nasdem dan junjungannya si anus ... titik.\\n@pranandapaloh',\n",
              " '@CNNIndonesia dari aktivis GRANAT (gerakan anti narkoba) trus belain setara jendral jualan sabu² itu aja udah aneh. yg jelas duitnya dwooong? awokwokwok awokwokwok',\n",
              " 'Polresta Denpasar Amankan 16 Pengedar  Narkoba, Amankan 2 Kg Ganja | RADAR NUSANTARA NEWS https://t.co/auDCMFfRPk',\n",
              " '@TaufikFarizi @otongkoil Prinsap prinsip, kesenggol dikit marah2..\\nPrinsip tu ya, misal lu prinsip ga merokok/narkoba/alkohol, mau biar dikeroyok mereka ya lu santuy aja, tetep kalem menikmati..klo lu protes ke mrk, suruh brenti, krn lu terganggu, ya brarti lu ga prinsip lah..trgoda namanya, wkwkwk',\n",
              " 'dituduh narkoba, bukan ateis. https://t.co/EpCXBeWBrV',\n",
              " 'Peramal Baba Ramdev Sebut Salman Khan Gunakan Narkoba, Shah Rukh Khan Terseret - VIVA - https://t.co/OrGDiA4cRk https://t.co/qMecEBOUzj',\n",
              " 'Irjen Teddy Minahasa Disebut Perintahkan AKBP Dody Prawiranegara Transaksi\\xa0Narkoba https://t.co/IBKPhncgwK',\n",
              " 'Polresta Denpasar Amankan 16 Pengedar  Narkoba, Amankan 2 Kg Ganja https://t.co/CTf0fQZTfI',\n",
              " 'KPK pernah dianggap gagal karena masih ada korupsi di Indonesia,\\nBerarti BNN super gagal karena narkoba makin lama makin merajalela.\\nBubarin BNN.',\n",
              " 'Dan narasi pembelaan yang dia bangun saat ini negatif pengguna narkoba tp krn obat bius aja. Iya bukan pengguna, tapi pedagang &amp; itu sama bobroknya! https://t.co/IzTSJ0MYRC',\n",
              " 'Dinyatakan Positif Narkoba, Teddy Minahasa: Itu Efek Obat Bius\\n#Narkoba #TeddyMinahasa #Polri\\n\\nSelengkapnya: https://t.co/dRB37QjMxN via @YouTube',\n",
              " '@BNNK_DEPOK Mantapp....semoga SDN Mekarjaya 5 dapat menularkan semangat Sekolah Bersinar (Bersih dari Narkoba) di Kota Depok. Amien.',\n",
              " 'Aku sih yakin bukan lee nya groupku  tapi kenapa ya pake blind item soalnya kan ini berita gede. Apa masih nego sama media biar ga naik?\\n\\nTenang aja bentar lagi juga kebuka. Idol, sponsor, narkoba ga mungkin disembunyiin. Berita gede traffic gede. https://t.co/RTOExvG5i7',\n",
              " 'Kamu Kreatif? Inovatif? Produktif?\\n\\n🤳🏻 SUKA MAIN TIKTOK? \\n\\nPas banget nih BNN RI akan mengadakan lomba video kreatif Tiktok yang hadiahnya jutaan rupiah 🥳🤩🎊\\n\\nPantengin terus media sosial BNN RI dan Cegah Narkoba untuk syarat dan ketentuannya yaaa!\\n\\n#Tiktok #LombaTiktok https://t.co/bCRI8PUV3i',\n",
              " 'Tertangkap Karena Kasus Peredaran Narkoba, Berikut Profil Irjen Teddy Minahasa @soclyfecom https://t.co/vqw8MKxjMG #profil #teddyminahasa #teddyminahasaputra #kapolda #kapoldasumbar #polisiindonesia #narkoba #kasus #beritaterkini #viralnews https://t.co/Nj6Qv7kvT2',\n",
              " 'Satres Narkoba Polres Aceh Barat menangkap tujuh orang terkait penyalahgunaan narkotika jenis sabu-sabu selama Agustus-September 2022. Mereka adalah pengguna dan pengedar. #publisherstory #acehkini https://t.co/1W1lykAS2R',\n",
              " '@CNNIndonesia Saya bukan pengguna atau pengedar narkoba. \\nTapi saya yg menyuruh simpan barang bukti narkoba 😁',\n",
              " 'Irjen Teddy Minahasa Bantah Tuduhan Sebagai Pengedar Narkoba dan Ragukan Hasil Tes Positif https://t.co/h8bgHqtKmu',\n",
              " '@txtdrberseragam nih beli mie ane aja ketimbang narkoba \\n\\nhttps://t.co/Jk5mwoXh8t https://t.co/iUsYqwnaGO',\n",
              " '@NegeriKolam Begundal sampah ini hanya mau menarik simpati manusia bodoh&amp;tolol lainnya utk jadi followernya ...',\n",
              " '@NayDonuts @Paltiwest Saya Kira wajar saja klo Si Henry Yosodiningrat Ini Membela Polisi yang kena Kasus Narkoba Karena Mereka Dapat Uang banyak dan dapat juga Nasi Bungkus',\n",
              " '👨👩: \"bi kamu jangan pake narkoba ya, udah tau sendirikan brapa banyak sodara kamu yg meninggal karna itu?\"\\n\"iyalah engga, kan haram takut dosa.. tp klo gnj bolehkan?\"\\n👩:\"selama gak ngelawan hukum negara/agama gpp\"\\n\"asikkk otw belanda\"\\nwkwkwkwk gajelas orangtua',\n",
              " 'Ditangkap dan Jadi Tersangka, Irjen Teddy Minahasa Bantah Jual dan Konsumsi Narkoba https://t.co/UXQxNEpxZr',\n",
              " '@CNNIndonesia Obat bius bahan dasarnya narkoba, makanya tenggeng wkwkwkwkwk',\n",
              " 'Om @ListyoSigitP jgn tkt yg psti ybs ikut terlibat uda pecat saja lgipula @PPATK psti bsa cek apakah ada transfer sewa jet? Ada atau tidak yg psti bsa skakmat jga n bsa cek duit pribadi 300 jta drimana paling dri mafia judi slot ya toh. Sikat mafia judi mafia narkoba smpe tuntas https://t.co/cUQxiYFsTV',\n",
              " 'Polres Kabupaten Kotawaringin Timur Tangkap 162 Tersangka dari 132 Kasus Narkoba di Kotim\\xa0sela https://t.co/SWUfD61vwd',\n",
              " 'Peramal Baba Ramdev Sebut Salman Khan Gunakan Narkoba, Shah Rukh Khan Terseret https://t.co/hAQA3MXuHZ',\n",
              " '✨AYO PUTUSKAN KEHIDUPAN TOXIC DARI BAHAYANYA PENGGUNAAN NARKOBA. BANGUN DARI SEKARANG POLA PIKIR SEHAT TANPA MENGONSUMSI OBAT-OBATAN TERLARANG✨ \\n\\nWAR ON DRUGS\\nSPEED UP,NEVER LET UP\\n@INFOBNN @BnnAceh \\n\\n#bnnri\\n#bnnpaceh\\n#bnnkotalangsa\\n#fyp\\n#viral \\n#viralindonesia\\n#humasbnnklangsa https://t.co/EAAHrNF1zU',\n",
              " 'Eks Kapolda Jawa Timur, Teddy Minahasa membantah dirinya mengkonsumsi dan mengedarkan narkoba. Bahkan ia berani mengucapkan kata sumpah untuk tuduhan tersebut. \\n\\nSimak berita selengkapnya di https://t.co/RGJke08ZAC\\n#HardNews_Kriminal #NewsOne #CariBeritaditvOne https://t.co/udcuWuNt2h',\n",
              " '@Frans_Priyo @ajies4ra @VeelaaRhie @KPK_RI Kurang percaya dgn KPK saat ini. Itu semua terkesan lip service aja.\\nAgar ada berita.\\n\\nKurang efektif sekarang KPK.\\nBaiknya dicukupkan saja lembaga ad hoc ini.\\n\\nBentuk lembaga super body terkait 3 prioritas utama:\\n1. Korupsi \\n2. Terorisme \\n3. Narkoba.\\nBadan keamanan negara (BKN).',\n",
              " 'Teddy Minahasa Dinyatakan Positif Usai Tes Narkoba, Namun Bantah dengan Argumen yang Meyakinkan Seperti Ini..\\nhttps://t.co/zQeMJL43fO',\n",
              " '@CNNIndonesia Masa kapolda mau jebak pengedar narkoba😅😅\\nEmang nya gak ada satuan narkoba. Anak buah kapolres😅\\nNgapain jauh jauh dari sumbar ke Jakarta cuma pengen jebak pengedar🤣🤣😂😂\\nSkenario mu palsu😂🤣😅🤣🤣🤣',\n",
              " 'Ditangkap dan Jadi Tersangka, Irjen Teddy Minahasa Bantah Jual dan Konsumsi Narkoba https://t.co/s80rO5frB8 #HenryYosodiningrat #IrjenTeddyMinahasa #KapoldaSumateraBarat #narkoba',\n",
              " '@lhayesno @Sunrise010170 @jokowi @Kiyai_MarufAmin mereka lupa kalau ke dokter gigi aja dibius, diberi narkoba..',\n",
              " '@CNNIndonesia Ngapa bawa² taat ibadah kalo lg pd susah?\\nNgomong aja duitnya gede!\\n\\nOrang taat ibadah gk bakal jualan narkoba, nyolong barang bukti kejahatan pulak.\\n\\nMuak gw sama orang² kek gini yg selalu menggunakan topeng agama!',\n",
              " 'Kapolri Jenderal Listyo Sigit Prabowo resmi melantik Irjen Suharyono sebagai Kapolda Sumatera Barat menggantikan posisi Irjen Teddy Minahasa yang kini tersandung kasus peredaran narkoba. #kumparanNEWS https://t.co/bfcTcJFh2l',\n",
              " 'Bapak-bapak ini juga gak pernah menggunakan narkoba. https://t.co/S7NjYjSfZ2 https://t.co/FuqXXJmm1z',\n",
              " 'Irjen Teddy Minahasa Bersumpah Demi Allah Tak Memakai dan Menjual\\xa0Narkoba https://t.co/H7S5wJQWGO',\n",
              " '@CNNIndonesia Orang taat beribadah tentunya ngak menjual narkoba. Ibadah itu bagian yang tidak terpisahkan dari ajaran agama. Agama dan narkoba dua hal yang bertolak belakang. Tidak ada agama yang menganjurkan menjual narkoba. Agama apa dia itu? Taat ibadah kok nual narkoba?',\n",
              " 'Rumah Rehabilitasi Korban Narkoba di Gumas akan Launching 25 Oktober\\xa02022 https://t.co/Nk9XC4y2uT',\n",
              " 'Rumah Rehabilitasi Korban Narkoba di Gumas akan Launching 25 Oktober\\xa02022 https://t.co/VYP2tNi5sk',\n",
              " 'Rumah Rehabilitasi Korban Narkoba di Gumas akan Launching 25 Oktober\\xa02022 https://t.co/foSvBCuWaY',\n",
              " 'Ini orang lucukkk..\\nreply di twitt orang yg ngomongin ttg berhenti narkoba…\\nehhhh belok tnpa reting ngomongin pertalite\\n\\nBBM Pertalite naik itu tetap ada Subsidi dari pemerintah berbentuk BLT BBM dan tentu sangat membantu masyarakat yg kurang mampu \\n\\nBBM Pertamina dijamin aman https://t.co/MGBSTitvlz https://t.co/PBYube3czF',\n",
              " '@CNNIndonesia Tumben bapak yang 1 ini, bela orang yang terlibat kasus narkoba. 🧐',\n",
              " 'Kompol hingga Brigadir, Ini 5 Anggota Polda Sumbar yang Diperiksa Kasus Narkoba Irjen Teddy\\nhttps://t.co/9zAOWy3RsL.',\n",
              " 'Jakarta - Irjen Teddy Minahasa ditetapkan sebagai tersangka kasus narkoba. Polda Metro Jaya menyatakan bahwasanya Teddy Minahasa mengendalikan peredaran sabu yang digelapkan dari barang bukti pengungkapan kasus di Polres Bukittinggi. \\n\\n#teddyminahasa #narkoba #jatimnews https://t.co/BP3WnPkTfP',\n",
              " 'Whatever.. sak karepmu bro 🙃\\n\\nTeddy Minahasa mengklaim AKBP Doddy Prawiranegara telah salah memahami perintahnya terkait Anita alias Linda yang juga jadi tersangka kasus narkoba. https://t.co/1VtFwyq4ra',\n",
              " '@ramadannw_ @depianayeaye anti narkoba',\n",
              " 'Sebelumnya, Mabes Polri batal memeriksa Teddy Minahasa dalam kasus peredaran narkoba pada Senin (17/10) karena Teddy sakit.',\n",
              " 'Henry juga mengatakan hasil pemeriksaan Teddy Minahasa positif narkoba karena pengaruh obat bius sehari sebelumnya di mana Teddy melakukan tindakan medis pada lutut yang dibius.',\n",
              " 'Henry Yosodiningrat kuasa hukum Teddy Minahasa mengatakan bahwa kliennya tidak pernah menggunakan narkoba. “Saya bukan pengguna. Saya tidak pernah menggunakan narkoba dan dia bersumpah demi Allah,” kata Teddy melalui Henry pada Selasa, (18/2). https://t.co/Dv6kchgWC4',\n",
              " '@_haye_ Isi instansi isilop ini tuh ga pembunuh ya bandar narkoba ga bandar narkoba ya kang maling,wes itu ae podo ne 👍',\n",
              " 'Sosialiasi Pencegahan Narkoba kepada Pegawai Kanwil DJP Sulawesi Selatan, Barat, dan Tenggara (18/10/22). https://t.co/8R49Dge0gT',\n",
              " 'TRANS7: Polisi gerebek lapak narkoba di Jakarta, hingga nyawa 3 orang hilang karena miras oplosan. #Redaksi https://t.co/K1ipWMcXaT',\n",
              " '@Haji_Bajuri @tempodotco Emg sejak kapan narkoba berkurang, dari tahun ke tahun masih banyak yg makai dan menjual',\n",
              " '@geloraco penggerak anti narkoba..tpi membela mafia narkoba... uang lbh menggoda drpd akal sehat',\n",
              " '@CNNIndonesia Kata2 ya Jendral2 polisi, yg nyangkut narkoba ketipu 20M uang pribadi, yg hidup hedon nyewa jet 300juta uang pribadi... Ckckckckkk banyak jg yg punya Harley beli cash pakai uang pribadi? Wawwwww',\n",
              " 'Kejati Sumbar Bantah Kecolongan Terkait Kasus Dugaan Jual Beli Narkoba Mantan Kapolda Sumbar https://t.co/j7wfrDuV0u',\n",
              " 'ada cerita takagi mau kasih cincin buat sato eh tas dia malah ketuker sama tas bandar narkoba😭',\n",
              " 'Pelaku Begal Ditangkap, Uang Hasil Begal Untuk Beli Narkoba https://t.co/5qAIwxuozv',\n",
              " 'Arti Kata Anestesi yang Jadi Dalih Teddy Minahasa Usai Dituding Pakai Narkoba, Ini Efek danamp; Cara Kerja\\n \\nhttps://t.co/KKJ1rlZb72 via @tribunjatim',\n",
              " '👮\\u200d♂️ : ngapain kamu jd punk ???\\n🧟 : daripada jadi reseller narkoba pak',\n",
              " \"@KompasTV FS dan TM sama2 jendral sama2 kaya entah dr mana uang nya sama2 penegak hukum dan sama2 di instansi kepolisian sangat memalukan dan merusak nama kepolisian, no choice hukuman nya mati, krn yg satu pembunuhan berencana, yg satu lg 5 kg narkoba, klu di m'sia n s'pore pasti gantung.\",\n",
              " 'apakah dalam penyidikan dan penyelidikan sesama korps bisa lebih fair?\\n\\nIrjen Teddy Minahasa Klaim Mau Jebak Linda di Kasus Narkoba, Ini Alasannya\\nhttps://t.co/PKunOyl5WQ',\n",
              " '@detikcom Aktivis Anti narkoba jadi pembela tersangka narkoba, aktivis Anti korupsi jadi pembela tersangka pembunuh yg juga penguasa judi. Ancur ancur @LBH_Jakarta @henryyoso @febridiansyah @YLBHI @LhbYlbh @pmiiuinjogja @pmii_rcc @KAMMIPusat @bemkmunsri @KompasTV',\n",
              " '@detikcom Perangi narkoba kalau uang gak ada kwkw kalau ada yah di bela cuk haha',\n",
              " '@txtdrpemerintah Ketum pusat nya gerakan anti narkoba aja mau jd pengacara pengedar narkoboy, kan lucu.',\n",
              " 'Henry Yoso Sebut Irjen Teddy Minahasa Suruh Eks Kapolres Bukittinggi Jual Narkoba di\\xa0Sumbar https://t.co/3bDj2uu82j',\n",
              " 'Henry Yoso Sebut Irjen Teddy Minahasa Suruh Eks Kapolres Bukittinggi Jual Narkoba di\\xa0Sumbar https://t.co/b7PTPJmkV0',\n",
              " 'Kasus Narkoba Irjen Teddy Minahasa 5 Anggota Polda Sumbar Dipanggil ke Mabes Polri\\nhttps://t.co/QSPS4QDN0G',\n",
              " '17 Hari, 16 Pengedar Diringkus https://t.co/7bJjRYyZUx #berita #nusabali #Narkoba #Narkotika #PolrestaDenpasar',\n",
              " 'RT @bnnkotacilegon: BNN Goes to School, Siswa MTs Negeri 3 Cilegon Antusias.\\n\\n#warondrugs #peranginarkobasekuatbaja #cilegonbergerakindonesiabersinar #indonesia #bersih #narkoba #sekolah #mts #negeri #3 #viral #reels #instagram #tiktok https://t.co/JI4zBOauui',\n",
              " 'Narkoba juga bisa dipakai obat bius https://t.co/LpWJfUffQF',\n",
              " '@CNNIndonesia bisa di cek kok narkoba nya jenis apa',\n",
              " 'Baru tau, lagi pengen warnain rambut lagi, ntar dikira narkoba https://t.co/EPJXetq2bQ',\n",
              " 'Gandeng Satbinmas, SMP 12 Gelar Penyuluhan Kenakalan Remaja dan Bahaya Narkoba - Sebayu FM https://t.co/PABrxAeInE',\n",
              " \"Narkoba enaknya sesa'at atau sebentar, tetapi sakitnya lama &amp; panjang.\\nMerugikan.\\nSelain saraf rusak juga semua organ rusak.\\nTermasuk otak &amp; perubahan cara berfikir &amp; prilaku.\\n\\nEnaknya sesaat.\\nMerusaknya nyata.\\n\\nKecuali kalian punya penyembuh dari Tuhan, mukjizat.\\n\\nSTOP NARKOBA.\",\n",
              " 'Cara Delevingne Tampil Lebih Segar di Tengah Isu Idap Masalah Kesehatan Mental dan Dugaan Pakai Narkoba  https://t.co/GZzdT1yhYF',\n",
              " '@KompasTV Manusia paling munafik di negeri ini.\\nMulut berbusa nasionalis ternyata jubah khilafah ...',\n",
              " 'Polres Sampang Berhasil Ungkap Tindak Pidana Narkoba Dan Amankan Sabu 36 Poket Sabu https://t.co/ojRJ1UVSHo https://t.co/amfSoWifCL',\n",
              " 'Bantah Tuduhan Sebagai Pengedar, Irjen Teddy Minahasa Sebut Hasil Positif Narkoba Efek Obat Bius https://t.co/tV310NEGLH https://t.co/xNKtIjn53N',\n",
              " '@kumparan Urusan narkoba, serahkan pada dia..dia ahlinya \\n\\n*Anaknyapun ahli dalam hal narkoba 🥴',\n",
              " 'Dikenal Taat Agama, Teddy Minahasa Bersumpah Tidak Pernah Konsumsi Narkoba: Demi Allah https://t.co/4DW2IRgD98 https://t.co/iAKwX80JDU',\n",
              " 'Sabu itu merusak paru-paru, dia berkerak diparu-paru.\\nWalo di suling tetap mengkristal diparu-paru.\\nJuga merusak jantung, jantung jadi bengkak, saraf juga jadi rusak.\\nGinjal juga rusak.\\nLambung juga rusak.\\n\\nKematian itu dibayar mahal dgn membeli sabu yg mahal.\\n\\nSTOP NARKOBA !',\n",
              " '@schnapphazy Studi bilang efek \"drop\" pada dom/sub setelah melakukan \"session\" bisa seintens efek narkoba, di situ kita sangat vulnerable secara emosional, ini ga selalu terjadi tapi ketika ini terjadi udah seharusnya bentuk tanggung jawab A/B utk ngasih aftercare bagi partner yg butuh.',\n",
              " 'Critanya polisi nangkep pengedar narkoba TP GAJD KARNA GUE TERLALU PENDEK',\n",
              " '@democrazymedia Legitnya uang narkoba bs melumpuhkan akal dan nalar..',\n",
              " 'Bentuk upaya pengawasan BNNP Jatim kepada personel bidang pemberantasan direalisasikan melalui pelaksanaan tes urine untuk menjalankan tugas sebagai penegak hukum yang bersih dalam menangani berbagai kasus dan permasalahan terkait narkoba. \\n\\n#BNNPJatim\\n#warondrugs \\n#jatimsangar https://t.co/ROP8OdAJ5N',\n",
              " '@kompascom Dulu anaknya @henryyoso jd korban narkoba, makanya dia jd pegiat anti narkoba, sekarang bela si pelindung dan pengedar narkoba.. \\npiye to ki @henryyoso ?',\n",
              " '@CNNIndonesia dan taat jual narkoba',\n",
              " 'Pulisi Kabaud kana Narkoba tur Judi Online,Kieu Anceman ti Kapolri!!! https://t.co/hKZpbTorho',\n",
              " 'Teddy Minahasa Bersumpah Demi Allah Tak Memakai dan Menjual Narkoba https://t.co/qdWYy2Zldm',\n",
              " 'JAUHI NARKOBA...!!!!\\n\\nKatakan \"TIDAK\" pada Narkoba.!!!\\n\\nHidup Sehat Tanpa Narkoba https://t.co/HqLA8ADhCk',\n",
              " '@webarebearry @coppamagz semogaaa soalnya ini skandal gede sihh apalagi narkoba” :”)',\n",
              " 'Tes urine itu sebagai bentuk pengawasan terhadap internal Polresta Kendari dari penyalahgunaan narkoba. #tesurine https://t.co/Vc7veyFtQQ',\n",
              " '@siapkawalpolri @ListyoSigitP Inilah hebatnya pak @ListyoSigitP setelah kasu ssambo lselesai kini kasus perjudian dan narkoba pun si selesaikan dengan baik denagn menetapkan Irjen Teddy sebagai tersangka merupakan jalan yg tepat dan benar.',\n",
              " 'Politikus PDIP Tegaskan Teddy Minahasa bukan Pengedar Narkoba &amp; Dizalimi https://t.co/NVo4e9ypjH']"
            ]
          },
          "metadata": {},
          "execution_count": 24
        }
      ]
    },
    {
      "cell_type": "markdown",
      "source": [
        "**Install Sastrawi.** Library Sastrawi merupakan library sederhana yang dapat mengubah kata berimbuhan bahasa Indonesia menjadi bentuk dasarnya."
      ],
      "metadata": {
        "id": "UR6qYVa70XJP"
      }
    },
    {
      "cell_type": "code",
      "source": [
        "!pip install Sastrawi"
      ],
      "metadata": {
        "colab": {
          "base_uri": "https://localhost:8080/"
        },
        "id": "xeqqY0rz3165",
        "outputId": "8dee66fd-d015-465d-e126-295d212f44de"
      },
      "execution_count": 25,
      "outputs": [
        {
          "output_type": "stream",
          "name": "stdout",
          "text": [
            "Looking in indexes: https://pypi.org/simple, https://us-python.pkg.dev/colab-wheels/public/simple/\n",
            "Requirement already satisfied: Sastrawi in /usr/local/lib/python3.7/dist-packages (1.0.1)\n"
          ]
        }
      ]
    },
    {
      "cell_type": "markdown",
      "source": [
        "**Melakukan proses stemming, melakukan proses penghilangan stopword,\n",
        "melakukan penghilangan karakter yang tidak bermakna.**"
      ],
      "metadata": {
        "id": "9m1g6TT41PwQ"
      }
    },
    {
      "cell_type": "code",
      "source": [
        "import re\n",
        "import string\n",
        "from Sastrawi.Stemmer.StemmerFactory import StemmerFactory# create stemmer\n",
        "factory = StemmerFactory()\n",
        "stemmer = factory.create_stemmer()# stemming process\n",
        "# import StopWordRemoverFactory class\n",
        "from Sastrawi.StopWordRemover.StopWordRemoverFactory import StopWordRemoverFactory\n",
        "factory = StopWordRemoverFactory()\n",
        "stopword = factory.create_stop_word_remover()\n",
        "documents_clean=[]\n",
        "\n",
        "for d in datatwitter:\n",
        "    outputstem= stemmer.stem(d)\n",
        "    d= stopword.remove(outputstem)\n",
        "    # Remove Unicode\n",
        "    document_test = re.sub(r'[^\\x00-\\x7F]+', ' ', d)\n",
        "    # Remove Mentions\n",
        "    document_test = re.sub(r'@\\w+', '', document_test)\n",
        "    # Lowercase the document\n",
        "    document_test = document_test.lower()\n",
        "    # Remove punctuations\n",
        "    document_test = re.sub(r'[%s]' % re.escape(string.punctuation), ' ', document_test)\n",
        "    # Lowercase the numbers\n",
        "    document_test = re.sub(r'[0-9]', '', document_test)\n",
        "    # Remove the doubled space\n",
        "    outputstop = re.sub(r'\\s{2,}', ' ', document_test)\n",
        "    documents_clean.append(outputstop)"
      ],
      "metadata": {
        "id": "yhu7e8JA3pz9"
      },
      "execution_count": 26,
      "outputs": []
    },
    {
      "cell_type": "code",
      "source": [
        "documents_clean[0:5]"
      ],
      "metadata": {
        "id": "DHryKJcs4ZYC",
        "outputId": "5bf042fd-bc78-4484-dbee-a232c772e479",
        "colab": {
          "base_uri": "https://localhost:8080/"
        }
      },
      "execution_count": 27,
      "outputs": [
        {
          "output_type": "execute_result",
          "data": {
            "text/plain": [
              "['dailexsy coppamagz iyaa nih aku jadi tau semenjak kasus artis indo pake narkoba buat stamina krn jadwal padetnya ooh nyata pake untuk yaa gak benar tp nyata dunia artis bisa jadi yaa',\n",
              " 'satres narkoba polres langkat laksana tes urine hadap personel https t co mxlpyq',\n",
              " 'drevachaniago betapa baik hati dalam jalan tugas negara wakanda dana pribadi mana ini jt utk tolak rumah korban satu m utk operasi narkoba selat malaka amp laut china gilaa yee',\n",
              " 'divhumas polri semua polisi tidak pernah narkoba judi negeri',\n",
              " 'semangat tumpas narkoba sama smpn banyuwangi https t co iwgigf']"
            ]
          },
          "metadata": {},
          "execution_count": 27
        }
      ]
    },
    {
      "cell_type": "code",
      "source": [
        "from sklearn.feature_extraction.text import TfidfVectorizer\n",
        "import pandas as pd\n",
        "tfidfvectorizer = TfidfVectorizer(analyzer='word')\n",
        "tfidf_wm = tfidfvectorizer.fit_transform(documents_clean)\n",
        "tfidf_tokens = tfidfvectorizer.get_feature_names()\n"
      ],
      "metadata": {
        "id": "WP-WtqiG6OMq"
      },
      "execution_count": 29,
      "outputs": []
    },
    {
      "cell_type": "code",
      "source": [
        "from sklearn.feature_extraction.text import CountVectorizer \n",
        "import matplotlib.pyplot as plt\n",
        "import numpy as np # linear algebra\n",
        "import pandas as pd # data processing, CSV file I/O (e.g. pd.read_csv)\n",
        "cv = CountVectorizer()\n",
        "words = cv.fit_transform(documents_clean)\n",
        "sum_words = words.sum(axis=0)\n",
        "\n",
        "\n",
        "words_freq = [(word, sum_words[0, idx]) for word, idx in cv.vocabulary_.items()]\n",
        "words_freq = sorted(words_freq, key = lambda x: x[1], reverse = True)\n",
        "frequency = pd.DataFrame(words_freq, columns=['word', 'freq'])\n",
        "\n",
        "color = plt.cm.twilight(np.linspace(0, 1, 20))\n",
        "frequency.head(20).plot(x='word', y='freq', kind='bar', figsize=(15, 7), color = color)\n",
        "plt.title(\"Most Frequently Occuring Words - Top 20\")"
      ],
      "metadata": {
        "id": "Q3MAvwPA6iRL",
        "outputId": "cdea028c-249c-42a2-d942-0c1bef1e61c0",
        "colab": {
          "base_uri": "https://localhost:8080/",
          "height": 532
        }
      },
      "execution_count": 30,
      "outputs": [
        {
          "output_type": "execute_result",
          "data": {
            "text/plain": [
              "Text(0.5, 1.0, 'Most Frequently Occuring Words - Top 20')"
            ]
          },
          "metadata": {},
          "execution_count": 30
        },
        {
          "output_type": "display_data",
          "data": {
            "text/plain": [
              "<Figure size 1080x504 with 1 Axes>"
            ],
            "image/png": "[encoded data removed]"
          },
          "metadata": {
            "needs_background": "light"
          }
        }
      ]
    },
    {
      "cell_type": "code",
      "source": [
        "from sklearn.cluster import KMeans\n",
        "true_k = 3\n",
        "model = KMeans(n_clusters=true_k, init='k-means++', max_iter=100, n_init=1)\n",
        "model.fit(words)"
      ],
      "metadata": {
        "id": "nEcdy2u66tLW",
        "outputId": "8ba601dc-62fd-4f70-8bf8-890fce4166e4",
        "colab": {
          "base_uri": "https://localhost:8080/"
        }
      },
      "execution_count": 31,
      "outputs": [
        {
          "output_type": "execute_result",
          "data": {
            "text/plain": [
              "KMeans(max_iter=100, n_clusters=3, n_init=1)"
            ]
          },
          "metadata": {},
          "execution_count": 31
        }
      ]
    },
    {
      "cell_type": "markdown",
      "source": [
        "**Menampilkan hasil cluster.**"
      ],
      "metadata": {
        "id": "JsAPSira1tux"
      }
    },
    {
      "cell_type": "code",
      "source": [
        "order_centroids = model.cluster_centers_.argsort()[:, ::-1]\n",
        "terms = cv.get_feature_names()\n",
        "\n",
        "for i in range(true_k):\n",
        "    print(\"Cluster %d:\" % i),\n",
        "    for ind in order_centroids[i, :10]:\n",
        "        print(' %s' % terms[ind]),\n",
        "    print\n",
        "\n",
        "print(\"\\n\")"
      ],
      "metadata": {
        "id": "uYUa2_Cp6wWG",
        "outputId": "f173fa87-6be4-4b44-c125-60ad092975e6",
        "colab": {
          "base_uri": "https://localhost:8080/"
        }
      },
      "execution_count": 32,
      "outputs": [
        {
          "output_type": "stream",
          "name": "stdout",
          "text": [
            "Cluster 0:\n",
            " co\n",
            " https\n",
            " narkoba\n",
            " khan\n",
            " polres\n",
            " bbm\n",
            " sabu\n",
            " amal\n",
            " baba\n",
            " shah\n",
            "Cluster 1:\n",
            " narkoba\n",
            " https\n",
            " co\n",
            " yg\n",
            " jadi\n",
            " cnnindonesia\n",
            " edar\n",
            " sama\n",
            " polisi\n",
            " aja\n",
            "Cluster 2:\n",
            " narkoba\n",
            " teddy\n",
            " https\n",
            " co\n",
            " minahasa\n",
            " irjen\n",
            " kasus\n",
            " edar\n",
            " sumpah\n",
            " henry\n",
            "\n",
            "\n"
          ]
        },
        {
          "output_type": "stream",
          "name": "stderr",
          "text": [
            "/usr/local/lib/python3.7/dist-packages/sklearn/utils/deprecation.py:87: FutureWarning: Function get_feature_names is deprecated; get_feature_names is deprecated in 1.0 and will be removed in 1.2. Please use get_feature_names_out instead.\n",
            "  warnings.warn(msg, category=FutureWarning)\n"
          ]
        }
      ]
    },
    {
      "cell_type": "markdown",
      "source": [
        "**Memasukkan prediksi kata tertentu.**"
      ],
      "metadata": {
        "id": "ezjFosaA1w_V"
      }
    },
    {
      "cell_type": "code",
      "source": [
        "print(\"Prediction\")\n",
        "Y = cv.transform([\"sabu\"])\n",
        "prediction = model.predict(Y)\n",
        "print(\"Cluster number :\", prediction)\n",
        "Y = cv.transform([\"polri\"])\n",
        "prediction = model.predict(Y)\n",
        "print(\"Cluster number :\", prediction)"
      ],
      "metadata": {
        "colab": {
          "base_uri": "https://localhost:8080/"
        },
        "id": "mKgbC4Opu1d2",
        "outputId": "647e0ebf-d377-42d5-ca9b-363f5dd75f7b"
      },
      "execution_count": 33,
      "outputs": [
        {
          "output_type": "stream",
          "name": "stdout",
          "text": [
            "Prediction\n",
            "Cluster number : [1]\n",
            "Cluster number : [1]\n"
          ]
        }
      ]
    },
    {
      "cell_type": "markdown",
      "source": [
        "**Menampilkan grafik Dendogram.** Dendrogram adalah sebuah grafik (diagram) yang menunjukkan proses penggabungan kluster. "
      ],
      "metadata": {
        "id": "kZucD8QV31_R"
      }
    },
    {
      "cell_type": "code",
      "source": [
        "import scipy.cluster.hierarchy as sch\n",
        "X = cv.fit_transform(documents_clean).todense()\n",
        "plt.figure(figsize=(20, 10))\n",
        "dendrogram = sch.dendrogram(sch.linkage(X, method = 'ward',metric='euclidean'),orientation=\"top\")\n",
        "plt.title('Dendrogram')\n",
        "plt.xlabel('Jarak Ward')\n",
        "plt.ylabel('Nomor Dokumen')\n",
        "plt.show()"
      ],
      "metadata": {
        "id": "R50vpCyU61CZ",
        "outputId": "0f980a32-888a-40ea-9b7c-caa399afdf56",
        "colab": {
          "base_uri": "https://localhost:8080/",
          "height": 621
        }
      },
      "execution_count": 41,
      "outputs": [
        {
          "output_type": "display_data",
          "data": {
            "text/plain": [
              "<Figure size 1440x720 with 1 Axes>"
            ],
            "image/png": "[encoded data removed]"
          },
          "metadata": {
            "needs_background": "light"
          }
        }
      ]
    },
    {
      "cell_type": "code",
      "source": [
        "import scipy.cluster.hierarchy as sch\n",
        "X = cv.fit_transform(documents_clean).todense()\n",
        "plt.figure(figsize=(20, 10))\n",
        "dendrogram = sch.dendrogram(sch.linkage(X, method = 'average',metric='euclidean'),orientation=\"right\")\n",
        "plt.title('Dendrogram')\n",
        "plt.xlabel('Jarak Rerata')\n",
        "plt.ylabel('Nomor Dokumen')\n",
        "plt.show()"
      ],
      "metadata": {
        "id": "6I9AaZtI7B3s",
        "outputId": "056b9700-897b-4317-ee75-96bdacacd3f5",
        "colab": {
          "base_uri": "https://localhost:8080/",
          "height": 621
        }
      },
      "execution_count": 44,
      "outputs": [
        {
          "output_type": "display_data",
          "data": {
            "text/plain": [
              "<Figure size 1440x720 with 1 Axes>"
            ],
            "image/png": "[encoded data removed]"
          },
          "metadata": {
            "needs_background": "light"
          }
        }
      ]
    },
    {
      "cell_type": "markdown",
      "source": [
        "**Hasil dengan algoritma Agglomerative Clustering**"
      ],
      "metadata": {
        "id": "05F4brmg2boI"
      }
    },
    {
      "cell_type": "code",
      "source": [
        "from sklearn.cluster import AgglomerativeClustering\n",
        "\n",
        "cluster = AgglomerativeClustering(n_clusters=6, affinity='euclidean', linkage='ward')  \n",
        "cluster.fit_predict(X) \n",
        "print(cluster.labels_)"
      ],
      "metadata": {
        "colab": {
          "base_uri": "https://localhost:8080/"
        },
        "id": "78J6TXejteeS",
        "outputId": "200ceeca-dcbd-4a3a-a54d-4e1d3dad8057"
      },
      "execution_count": 45,
      "outputs": [
        {
          "output_type": "stream",
          "name": "stdout",
          "text": [
            "[0 4 0 0 4 2 4 0 0 0 0 0 0 2 0 0 0 0 0 0 0 0 0 2 4 4 4 2 2 4 4 0 0 0 3 0 0\n",
            " 0 0 4 4 4 4 2 4 4 2 2 0 4 4 4 2 4 0 2 2 2 2 2 4 4 0 0 0 2 0 0 0 0 0 0 0 0\n",
            " 0 4 3 4 4 4 4 0 4 2 0 0 4 2 4 0 2 4 0 0 0 2 0 1 4 4 4 2 0 2 0 2 0 0 2 4 2\n",
            " 0 4 4 4 4 0 2 2 2 0 2 2 2 0 4 4 0 0 1 4 0 4 2 0 1 2 0 0 0 2 2 2 4 4 4 0 4\n",
            " 4 5 4 0 4 2 0 2 5 0 0 0 0 0 0 4 2 0 0 4 0 4]\n"
          ]
        },
        {
          "output_type": "stream",
          "name": "stderr",
          "text": [
            "/usr/local/lib/python3.7/dist-packages/sklearn/utils/validation.py:598: FutureWarning: np.matrix usage is deprecated in 1.0 and will raise a TypeError in 1.2. Please convert to a numpy array with np.asarray. For more information see: https://numpy.org/doc/stable/reference/generated/numpy.matrix.html\n",
            "  FutureWarning,\n"
          ]
        }
      ]
    },
    {
      "cell_type": "code",
      "source": [
        "from scipy.cluster.hierarchy import dendrogram, linkage\n",
        "from matplotlib import pyplot as plt\n",
        "\n",
        "linked = linkage(X, 'average')\n",
        "\n",
        "labelList = range(0, len(cluster.labels_))\n",
        "\n",
        "plt.figure(figsize=(20, 10))\n",
        "dendrogram(linked,\n",
        "            orientation='top',\n",
        "            labels=labelList,\n",
        "            distance_sort='descending',\n",
        "            show_leaf_counts=True)\n",
        "plt.show()"
      ],
      "metadata": {
        "colab": {
          "base_uri": "https://localhost:8080/",
          "height": 591
        },
        "id": "QRDGINB0tlY1",
        "outputId": "00cc6592-5ffc-413b-e00e-466c820b3f1f"
      },
      "execution_count": 46,
      "outputs": [
        {
          "output_type": "display_data",
          "data": {
            "text/plain": [
              "<Figure size 1440x720 with 1 Axes>"
            ],
            "image/png": "[encoded data removed]"
          },
          "metadata": {
            "needs_background": "light"
          }
        }
      ]
    },
    {
      "cell_type": "code",
      "source": [
        "from scipy.cluster.hierarchy import dendrogram, linkage\n",
        "from matplotlib import pyplot as plt\n",
        "\n",
        "linked = linkage(X, 'single')\n",
        "\n",
        "labelList = range(0, len(cluster.labels_))\n",
        "\n",
        "plt.figure(figsize=(20, 10))\n",
        "dendrogram(linked,\n",
        "            orientation='top',\n",
        "            labels=labelList,\n",
        "            distance_sort='descending',\n",
        "            show_leaf_counts=True)\n",
        "plt.show()"
      ],
      "metadata": {
        "colab": {
          "base_uri": "https://localhost:8080/",
          "height": 591
        },
        "id": "cjOJdL4ItrSI",
        "outputId": "f3973ab6-13e5-4ae6-b3d8-ff9588b0b630"
      },
      "execution_count": 48,
      "outputs": [
        {
          "output_type": "display_data",
          "data": {
            "text/plain": [
              "<Figure size 1440x720 with 1 Axes>"
            ],
            "image/png": "[encoded data removed]"
          },
          "metadata": {
            "needs_background": "light"
          }
        }
      ]
    }
  ]
}